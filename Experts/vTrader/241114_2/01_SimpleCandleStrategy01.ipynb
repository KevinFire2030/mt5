{
 "cells": [
  {
   "cell_type": "markdown",
   "metadata": {},
   "source": [
    "### 1 - Import test data"
   ]
  },
  {
   "cell_type": "code",
   "execution_count": 1,
   "metadata": {},
   "outputs": [],
   "source": [
    "import pandas as pd\n",
    "import pandas_ta as ta\n",
    "from tqdm import tqdm\n",
    "import os\n",
    "import numpy as np\n",
    "import plotly.graph_objects as go\n",
    "from plotly.subplots import make_subplots\n",
    "\n",
    "tqdm.pandas()\n",
    "\n",
    "def read_csv_to_dataframe(file_path):\n",
    "    df = pd.read_csv(file_path)\n",
    "    df[\"Gmt time\"] = df[\"Gmt time\"].str.replace(\".000\", \"\")\n",
    "    df['Gmt time'] = pd.to_datetime(df['Gmt time'], format='%d.%m.%Y %H:%M:%S')\n",
    "    df = df[df.High != df.Low]\n",
    "    df.set_index(\"Gmt time\", inplace=True)\n",
    "    return df\n",
    "\n",
    "def read_data_folder(folder_path=\"./data\"):\n",
    "    dataframes = []\n",
    "    file_names = []\n",
    "    for file_name in tqdm(os.listdir(folder_path)):\n",
    "        if file_name.endswith('.csv'):\n",
    "            file_path = os.path.join(folder_path, file_name)\n",
    "            df = read_csv_to_dataframe(file_path)\n",
    "            dataframes.append(df)\n",
    "            file_names.append(file_name)\n",
    "    return dataframes, file_names\n",
    "\n",
    "def total_signal(df, current_candle):\n",
    "    current_pos = df.index.get_loc(current_candle)\n",
    "    c0 = df['Open'].iloc[current_pos] > df['Close'].iloc[current_pos]\n",
    "    # Condition 1: The high is greater than the high of the previous day\n",
    "    c1 = df['High'].iloc[current_pos] > df['High'].iloc[current_pos - 1]\n",
    "    # Condition 2: The low is less than the low of the previous day\n",
    "    c2 = df['Low'].iloc[current_pos] < df['Low'].iloc[current_pos - 1]\n",
    "    # Condition 3: The close of the Outside Bar is less than the low of the previous day\n",
    "    c3 = df['Close'].iloc[current_pos] < df['Low'].iloc[current_pos - 1]\n",
    "\n",
    "    if c0 and c1 and c2 and c3:\n",
    "        return 2  # Signal for entering a Long trade at the open of the next bar\n",
    "    \n",
    "    c0 = df['Open'].iloc[current_pos] < df['Close'].iloc[current_pos]\n",
    "    # Condition 1: The high is greater than the high of the previous day\n",
    "    c1 = df['Low'].iloc[current_pos] < df['Low'].iloc[current_pos - 1]\n",
    "    # Condition 2: The low is less than the low of the previous day\n",
    "    c2 = df['High'].iloc[current_pos] > df['High'].iloc[current_pos - 1]\n",
    "    # Condition 3: The close of the Outside Bar is less than the low of the previous day\n",
    "    c3 = df['Close'].iloc[current_pos] > df['High'].iloc[current_pos - 1]\n",
    "    \n",
    "    if c0 and c1 and c2 and c3:\n",
    "        return 1\n",
    "\n",
    "    return 0\n",
    "\n",
    "def add_total_signal(df):\n",
    "    df['TotalSignal'] = df.progress_apply(lambda row: total_signal(df, row.name), axis=1)#.shift(1)\n",
    "    return df\n",
    "\n",
    "def add_pointpos_column(df, signal_column):\n",
    "    \"\"\"\n",
    "    Adds a 'pointpos' column to the DataFrame to indicate the position of support and resistance points.\n",
    "    \n",
    "    Parameters:\n",
    "    df (DataFrame): DataFrame containing the stock data with the specified SR column, 'Low', and 'High' columns.\n",
    "    sr_column (str): The name of the column to consider for the SR (support/resistance) points.\n",
    "    \n",
    "    Returns:\n",
    "    DataFrame: The original DataFrame with an additional 'pointpos' column.\n",
    "    \"\"\"\n",
    "    def pointpos(row):\n",
    "        if row[signal_column] == 2:\n",
    "            return row['Low'] - 1e-4\n",
    "        elif row[signal_column] == 1:\n",
    "            return row['High'] + 1e-4\n",
    "        else:\n",
    "            return np.nan\n",
    "\n",
    "    df['pointpos'] = df.apply(lambda row: pointpos(row), axis=1)\n",
    "    return df\n",
    "\n",
    "def plot_candlestick_with_signals(df, start_index, num_rows):\n",
    "    \"\"\"\n",
    "    Plots a candlestick chart with signal points.\n",
    "    \n",
    "    Parameters:\n",
    "    df (DataFrame): DataFrame containing the stock data with 'Open', 'High', 'Low', 'Close', and 'pointpos' columns.\n",
    "    start_index (int): The starting index for the subset of data to plot.\n",
    "    num_rows (int): The number of rows of data to plot.\n",
    "    \n",
    "    Returns:\n",
    "    None\n",
    "    \"\"\"\n",
    "    df_subset = df[start_index:start_index + num_rows]\n",
    "    \n",
    "    fig = make_subplots(rows=1, cols=1)\n",
    "    \n",
    "    fig.add_trace(go.Candlestick(x=df_subset.index,\n",
    "                                 open=df_subset['Open'],\n",
    "                                 high=df_subset['High'],\n",
    "                                 low=df_subset['Low'],\n",
    "                                 close=df_subset['Close'],\n",
    "                                 name='Candlesticks'),\n",
    "                  row=1, col=1)\n",
    "    \n",
    "    fig.add_trace(go.Scatter(x=df_subset.index, y=df_subset['pointpos'], mode=\"markers\",\n",
    "                             marker=dict(size=10, color=\"MediumPurple\", symbol='circle'),\n",
    "                             name=\"Entry Points\"),\n",
    "                  row=1, col=1)\n",
    "    \n",
    "    fig.update_layout(\n",
    "        width=1200, \n",
    "        height=800, \n",
    "        plot_bgcolor='black',\n",
    "        paper_bgcolor='black',\n",
    "        font=dict(color='white'),\n",
    "        xaxis=dict(showgrid=False, zeroline=False),\n",
    "        yaxis=dict(showgrid=False, zeroline=False),\n",
    "        showlegend=True,\n",
    "        legend=dict(\n",
    "            x=0.01,\n",
    "            y=0.99,\n",
    "            traceorder=\"normal\",\n",
    "            font=dict(\n",
    "                family=\"sans-serif\",\n",
    "                size=12,\n",
    "                color=\"white\"\n",
    "            ),\n",
    "            bgcolor=\"black\",\n",
    "            bordercolor=\"gray\",\n",
    "            borderwidth=2\n",
    "        )\n",
    "    )\n",
    "    \n",
    "    fig.show()"
   ]
  },
  {
   "cell_type": "code",
   "execution_count": 3,
   "metadata": {},
   "outputs": [
    {
     "name": "stderr",
     "output_type": "stream",
     "text": [
      "100%|██████████| 2/2 [00:00<00:00, 46.47it/s]\n"
     ]
    }
   ],
   "source": [
    "ldf, names = read_data_folder()"
   ]
  },
  {
   "cell_type": "code",
   "execution_count": 4,
   "metadata": {},
   "outputs": [
    {
     "data": {
      "text/plain": [
       "['EURUSD_Candlestick_1_D_BID_06.06.2017-15.06.2024.csv',\n",
       " 'GBPUSD_Candlestick_1_D_BID_06.06.2017-15.06.2024.csv']"
      ]
     },
     "execution_count": 4,
     "metadata": {},
     "output_type": "execute_result"
    }
   ],
   "source": [
    "names"
   ]
  },
  {
   "cell_type": "code",
   "execution_count": 5,
   "metadata": {},
   "outputs": [
    {
     "name": "stderr",
     "output_type": "stream",
     "text": [
      "100%|██████████| 2/2 [00:00<00:00, 55.51it/s]\n"
     ]
    },
    {
     "name": "stdout",
     "output_type": "stream",
     "text": [
      "working on dataframe  0 ...\n"
     ]
    },
    {
     "name": "stderr",
     "output_type": "stream",
     "text": [
      "100%|██████████| 2197/2197 [00:00<00:00, 4647.16it/s]\n"
     ]
    },
    {
     "name": "stdout",
     "output_type": "stream",
     "text": [
      "working on dataframe  1 ...\n"
     ]
    },
    {
     "name": "stderr",
     "output_type": "stream",
     "text": [
      "100%|██████████| 2196/2196 [00:00<00:00, 5126.16it/s]\n"
     ]
    }
   ],
   "source": [
    "folder_path = \"./data\"\n",
    "dataframes, file_names = read_data_folder(folder_path)\n",
    "\n",
    "for i, df in enumerate(dataframes):\n",
    "    print(\"working on dataframe \", i, \"...\")\n",
    "    df = add_total_signal(df)\n",
    "    df = add_pointpos_column(df, \"TotalSignal\")\n",
    "    dataframes[i] = df  # Update the dataframe in the list\n",
    "    "
   ]
  },
  {
   "cell_type": "code",
   "execution_count": 6,
   "metadata": {},
   "outputs": [
    {
     "data": {
      "text/plain": [
       "TotalSignal\n",
       "0    3766\n",
       "1     315\n",
       "2     312\n",
       "Name: count, dtype: int64"
      ]
     },
     "execution_count": 6,
     "metadata": {},
     "output_type": "execute_result"
    }
   ],
   "source": [
    "sum([frame[\"TotalSignal\"].value_counts() for frame in dataframes], start=0)\n"
   ]
  },
  {
   "cell_type": "code",
   "execution_count": 7,
   "metadata": {},
   "outputs": [
    {
     "data": {
      "application/vnd.plotly.v1+json": {
       "config": {
        "plotlyServerURL": "https://plot.ly"
       },
       "data": [
        {
         "close": [
          1.17091,
          1.17219,
          1.16478,
          1.16884,
          1.16261,
          1.15375,
          1.16646,
          1.16922,
          1.16584,
          1.16672,
          1.17,
          1.17261,
          1.17813,
          1.17931,
          1.17666,
          1.17845,
          1.17725,
          1.17475,
          1.18032,
          1.15633,
          1.16059,
          1.1593,
          1.16298,
          1.15881,
          1.15773,
          1.16043,
          1.16561,
          1.166,
          1.17009,
          1.16493,
          1.15629,
          1.15634,
          1.16847,
          1.16786,
          1.16415,
          1.16589,
          1.16601,
          1.16918,
          1.17444,
          1.17517,
          1.1756,
          1.17279,
          1.16749,
          1.16638,
          1.16843,
          1.16783,
          1.1709,
          1.1653,
          1.16449,
          1.16544,
          1.17196,
          1.17403,
          1.16934,
          1.16845,
          1.17379,
          1.16437,
          1.16559,
          1.16591,
          1.17071,
          1.1689,
          1.16631,
          1.1585,
          1.1567,
          1.15615,
          1.15579,
          1.16029,
          1.16092,
          1.1524,
          1.1409,
          1.13946,
          1.14004,
          1.13466,
          1.13416,
          1.13718,
          1.14379,
          1.14378,
          1.14918,
          1.15759,
          1.15857,
          1.15419,
          1.16205,
          1.16451,
          1.1684,
          1.16932,
          1.17093,
          1.16654,
          1.15997,
          1.1598,
          1.16138,
          1.15871,
          1.16344,
          1.16198,
          1.1552,
          1.15607,
          1.15935,
          1.15955,
          1.16253,
          1.16911,
          1.16227,
          1.16234
         ],
         "high": [
          1.17889,
          1.17501,
          1.17335,
          1.1692,
          1.17283,
          1.16394,
          1.16759,
          1.17243,
          1.17178,
          1.16689,
          1.17444,
          1.17324,
          1.17956,
          1.18398,
          1.18103,
          1.17857,
          1.18205,
          1.18088,
          1.18047,
          1.18516,
          1.16269,
          1.1602,
          1.1641,
          1.16445,
          1.15999,
          1.16334,
          1.16749,
          1.16728,
          1.1713,
          1.17203,
          1.1672,
          1.16005,
          1.16902,
          1.169,
          1.16789,
          1.16731,
          1.16817,
          1.17201,
          1.17676,
          1.17541,
          1.17906,
          1.17624,
          1.1758,
          1.16955,
          1.16868,
          1.16912,
          1.17253,
          1.17446,
          1.16648,
          1.16785,
          1.17387,
          1.17453,
          1.17497,
          1.17168,
          1.17387,
          1.17436,
          1.16642,
          1.16604,
          1.17186,
          1.17458,
          1.16994,
          1.16675,
          1.16105,
          1.15705,
          1.15702,
          1.16082,
          1.16281,
          1.16192,
          1.15363,
          1.14115,
          1.14328,
          1.14294,
          1.13548,
          1.14091,
          1.14448,
          1.14399,
          1.14931,
          1.16011,
          1.16229,
          1.15906,
          1.16397,
          1.16534,
          1.16935,
          1.17334,
          1.17106,
          1.17181,
          1.16901,
          1.16037,
          1.16278,
          1.16141,
          1.164,
          1.16592,
          1.16495,
          1.15608,
          1.16161,
          1.16441,
          1.16496,
          1.17009,
          1.17215,
          1.16322
         ],
         "low": [
          1.16758,
          1.16906,
          1.16455,
          1.16758,
          1.16073,
          1.15099,
          1.15186,
          1.1641,
          1.1617,
          1.16561,
          1.1667,
          1.16525,
          1.17139,
          1.1781,
          1.17271,
          1.1771,
          1.17715,
          1.17334,
          1.17254,
          1.15607,
          1.15432,
          1.1586,
          1.15653,
          1.15307,
          1.15365,
          1.15082,
          1.16005,
          1.16577,
          1.16286,
          1.16348,
          1.15407,
          1.15271,
          1.15632,
          1.16616,
          1.15911,
          1.16204,
          1.16305,
          1.165,
          1.168,
          1.17387,
          1.17326,
          1.16901,
          1.16653,
          1.16497,
          1.16129,
          1.1677,
          1.16756,
          1.16484,
          1.16019,
          1.15748,
          1.16262,
          1.17233,
          1.16836,
          1.16545,
          1.1664,
          1.16379,
          1.16203,
          1.16525,
          1.16479,
          1.16838,
          1.16572,
          1.15816,
          1.15603,
          1.15601,
          1.153,
          1.15515,
          1.15732,
          1.15162,
          1.13881,
          1.13708,
          1.13649,
          1.13302,
          1.13009,
          1.13357,
          1.13663,
          1.14353,
          1.13942,
          1.14854,
          1.15531,
          1.15298,
          1.15381,
          1.1614,
          1.15943,
          1.16625,
          1.1652,
          1.16417,
          1.15845,
          1.15926,
          1.15889,
          1.15301,
          1.15425,
          1.16055,
          1.15506,
          1.15474,
          1.1526,
          1.15654,
          1.15699,
          1.16091,
          1.16206,
          1.16219
         ],
         "name": "Candlesticks",
         "open": [
          1.1788,
          1.17092,
          1.1722,
          1.16862,
          1.16886,
          1.16264,
          1.15375,
          1.16646,
          1.16922,
          1.16561,
          1.1667,
          1.17,
          1.17263,
          1.17812,
          1.17931,
          1.17736,
          1.17845,
          1.17726,
          1.17475,
          1.1803,
          1.15629,
          1.15874,
          1.1593,
          1.16297,
          1.15882,
          1.15774,
          1.16043,
          1.16622,
          1.16603,
          1.17009,
          1.16493,
          1.15628,
          1.15634,
          1.16747,
          1.16778,
          1.16413,
          1.16587,
          1.16602,
          1.16919,
          1.17392,
          1.17514,
          1.1756,
          1.17279,
          1.16749,
          1.16637,
          1.16896,
          1.16783,
          1.1709,
          1.16536,
          1.16449,
          1.16547,
          1.17252,
          1.17404,
          1.16934,
          1.16846,
          1.17379,
          1.16436,
          1.16561,
          1.16591,
          1.17071,
          1.1689,
          1.16632,
          1.15851,
          1.15663,
          1.15615,
          1.1558,
          1.16029,
          1.16092,
          1.15239,
          1.1371,
          1.13948,
          1.14004,
          1.13466,
          1.13416,
          1.13719,
          1.14371,
          1.14379,
          1.14918,
          1.15761,
          1.15857,
          1.15419,
          1.16141,
          1.1645,
          1.16842,
          1.16932,
          1.17094,
          1.16654,
          1.15961,
          1.15979,
          1.16139,
          1.15872,
          1.16346,
          1.162,
          1.15483,
          1.15605,
          1.15935,
          1.15954,
          1.16253,
          1.16912,
          1.16223
         ],
         "type": "candlestick",
         "x": [
          "2018-05-23T00:00:00",
          "2018-05-24T00:00:00",
          "2018-05-25T00:00:00",
          "2018-05-27T00:00:00",
          "2018-05-28T00:00:00",
          "2018-05-29T00:00:00",
          "2018-05-30T00:00:00",
          "2018-05-31T00:00:00",
          "2018-06-01T00:00:00",
          "2018-06-03T00:00:00",
          "2018-06-04T00:00:00",
          "2018-06-05T00:00:00",
          "2018-06-06T00:00:00",
          "2018-06-07T00:00:00",
          "2018-06-08T00:00:00",
          "2018-06-10T00:00:00",
          "2018-06-11T00:00:00",
          "2018-06-12T00:00:00",
          "2018-06-13T00:00:00",
          "2018-06-14T00:00:00",
          "2018-06-15T00:00:00",
          "2018-06-17T00:00:00",
          "2018-06-18T00:00:00",
          "2018-06-19T00:00:00",
          "2018-06-20T00:00:00",
          "2018-06-21T00:00:00",
          "2018-06-22T00:00:00",
          "2018-06-24T00:00:00",
          "2018-06-25T00:00:00",
          "2018-06-26T00:00:00",
          "2018-06-27T00:00:00",
          "2018-06-28T00:00:00",
          "2018-06-29T00:00:00",
          "2018-07-01T00:00:00",
          "2018-07-02T00:00:00",
          "2018-07-03T00:00:00",
          "2018-07-04T00:00:00",
          "2018-07-05T00:00:00",
          "2018-07-06T00:00:00",
          "2018-07-08T00:00:00",
          "2018-07-09T00:00:00",
          "2018-07-10T00:00:00",
          "2018-07-11T00:00:00",
          "2018-07-12T00:00:00",
          "2018-07-13T00:00:00",
          "2018-07-15T00:00:00",
          "2018-07-16T00:00:00",
          "2018-07-17T00:00:00",
          "2018-07-18T00:00:00",
          "2018-07-19T00:00:00",
          "2018-07-20T00:00:00",
          "2018-07-22T00:00:00",
          "2018-07-23T00:00:00",
          "2018-07-24T00:00:00",
          "2018-07-25T00:00:00",
          "2018-07-26T00:00:00",
          "2018-07-27T00:00:00",
          "2018-07-29T00:00:00",
          "2018-07-30T00:00:00",
          "2018-07-31T00:00:00",
          "2018-08-01T00:00:00",
          "2018-08-02T00:00:00",
          "2018-08-03T00:00:00",
          "2018-08-05T00:00:00",
          "2018-08-06T00:00:00",
          "2018-08-07T00:00:00",
          "2018-08-08T00:00:00",
          "2018-08-09T00:00:00",
          "2018-08-10T00:00:00",
          "2018-08-12T00:00:00",
          "2018-08-13T00:00:00",
          "2018-08-14T00:00:00",
          "2018-08-15T00:00:00",
          "2018-08-16T00:00:00",
          "2018-08-17T00:00:00",
          "2018-08-19T00:00:00",
          "2018-08-20T00:00:00",
          "2018-08-21T00:00:00",
          "2018-08-22T00:00:00",
          "2018-08-23T00:00:00",
          "2018-08-24T00:00:00",
          "2018-08-26T00:00:00",
          "2018-08-27T00:00:00",
          "2018-08-28T00:00:00",
          "2018-08-29T00:00:00",
          "2018-08-30T00:00:00",
          "2018-08-31T00:00:00",
          "2018-09-02T00:00:00",
          "2018-09-03T00:00:00",
          "2018-09-04T00:00:00",
          "2018-09-05T00:00:00",
          "2018-09-06T00:00:00",
          "2018-09-07T00:00:00",
          "2018-09-09T00:00:00",
          "2018-09-10T00:00:00",
          "2018-09-11T00:00:00",
          "2018-09-12T00:00:00",
          "2018-09-13T00:00:00",
          "2018-09-14T00:00:00",
          "2018-09-16T00:00:00"
         ],
         "xaxis": "x",
         "yaxis": "y"
        },
        {
         "marker": {
          "color": "MediumPurple",
          "size": 10,
          "symbol": "circle"
         },
         "mode": "markers",
         "name": "Entry Points",
         "type": "scatter",
         "x": [
          "2018-05-23T00:00:00",
          "2018-05-24T00:00:00",
          "2018-05-25T00:00:00",
          "2018-05-27T00:00:00",
          "2018-05-28T00:00:00",
          "2018-05-29T00:00:00",
          "2018-05-30T00:00:00",
          "2018-05-31T00:00:00",
          "2018-06-01T00:00:00",
          "2018-06-03T00:00:00",
          "2018-06-04T00:00:00",
          "2018-06-05T00:00:00",
          "2018-06-06T00:00:00",
          "2018-06-07T00:00:00",
          "2018-06-08T00:00:00",
          "2018-06-10T00:00:00",
          "2018-06-11T00:00:00",
          "2018-06-12T00:00:00",
          "2018-06-13T00:00:00",
          "2018-06-14T00:00:00",
          "2018-06-15T00:00:00",
          "2018-06-17T00:00:00",
          "2018-06-18T00:00:00",
          "2018-06-19T00:00:00",
          "2018-06-20T00:00:00",
          "2018-06-21T00:00:00",
          "2018-06-22T00:00:00",
          "2018-06-24T00:00:00",
          "2018-06-25T00:00:00",
          "2018-06-26T00:00:00",
          "2018-06-27T00:00:00",
          "2018-06-28T00:00:00",
          "2018-06-29T00:00:00",
          "2018-07-01T00:00:00",
          "2018-07-02T00:00:00",
          "2018-07-03T00:00:00",
          "2018-07-04T00:00:00",
          "2018-07-05T00:00:00",
          "2018-07-06T00:00:00",
          "2018-07-08T00:00:00",
          "2018-07-09T00:00:00",
          "2018-07-10T00:00:00",
          "2018-07-11T00:00:00",
          "2018-07-12T00:00:00",
          "2018-07-13T00:00:00",
          "2018-07-15T00:00:00",
          "2018-07-16T00:00:00",
          "2018-07-17T00:00:00",
          "2018-07-18T00:00:00",
          "2018-07-19T00:00:00",
          "2018-07-20T00:00:00",
          "2018-07-22T00:00:00",
          "2018-07-23T00:00:00",
          "2018-07-24T00:00:00",
          "2018-07-25T00:00:00",
          "2018-07-26T00:00:00",
          "2018-07-27T00:00:00",
          "2018-07-29T00:00:00",
          "2018-07-30T00:00:00",
          "2018-07-31T00:00:00",
          "2018-08-01T00:00:00",
          "2018-08-02T00:00:00",
          "2018-08-03T00:00:00",
          "2018-08-05T00:00:00",
          "2018-08-06T00:00:00",
          "2018-08-07T00:00:00",
          "2018-08-08T00:00:00",
          "2018-08-09T00:00:00",
          "2018-08-10T00:00:00",
          "2018-08-12T00:00:00",
          "2018-08-13T00:00:00",
          "2018-08-14T00:00:00",
          "2018-08-15T00:00:00",
          "2018-08-16T00:00:00",
          "2018-08-17T00:00:00",
          "2018-08-19T00:00:00",
          "2018-08-20T00:00:00",
          "2018-08-21T00:00:00",
          "2018-08-22T00:00:00",
          "2018-08-23T00:00:00",
          "2018-08-24T00:00:00",
          "2018-08-26T00:00:00",
          "2018-08-27T00:00:00",
          "2018-08-28T00:00:00",
          "2018-08-29T00:00:00",
          "2018-08-30T00:00:00",
          "2018-08-31T00:00:00",
          "2018-09-02T00:00:00",
          "2018-09-03T00:00:00",
          "2018-09-04T00:00:00",
          "2018-09-05T00:00:00",
          "2018-09-06T00:00:00",
          "2018-09-07T00:00:00",
          "2018-09-09T00:00:00",
          "2018-09-10T00:00:00",
          "2018-09-11T00:00:00",
          "2018-09-12T00:00:00",
          "2018-09-13T00:00:00",
          "2018-09-14T00:00:00",
          "2018-09-16T00:00:00"
         ],
         "xaxis": "x",
         "y": [
          null,
          null,
          null,
          null,
          1.16063,
          null,
          null,
          null,
          null,
          null,
          null,
          null,
          null,
          null,
          null,
          null,
          null,
          null,
          null,
          1.15597,
          null,
          null,
          1.1642,
          null,
          null,
          1.16344,
          null,
          null,
          1.1714,
          null,
          null,
          null,
          null,
          null,
          null,
          null,
          null,
          null,
          null,
          null,
          1.17916,
          null,
          null,
          null,
          null,
          null,
          1.17263,
          1.16474,
          null,
          null,
          null,
          null,
          1.16826,
          null,
          null,
          1.1636900000000001,
          null,
          null,
          1.17196,
          null,
          null,
          null,
          null,
          null,
          null,
          null,
          null,
          null,
          null,
          null,
          null,
          null,
          null,
          null,
          null,
          null,
          1.14941,
          null,
          null,
          null,
          null,
          null,
          1.1694499999999999,
          null,
          null,
          null,
          null,
          null,
          1.16288,
          null,
          null,
          null,
          null,
          null,
          1.16171,
          null,
          null,
          null,
          null,
          null
         ],
         "yaxis": "y"
        }
       ],
       "layout": {
        "font": {
         "color": "white"
        },
        "height": 800,
        "legend": {
         "bgcolor": "black",
         "bordercolor": "gray",
         "borderwidth": 2,
         "font": {
          "color": "white",
          "family": "sans-serif",
          "size": 12
         },
         "traceorder": "normal",
         "x": 0.01,
         "y": 0.99
        },
        "paper_bgcolor": "black",
        "plot_bgcolor": "black",
        "showlegend": true,
        "template": {
         "data": {
          "bar": [
           {
            "error_x": {
             "color": "#2a3f5f"
            },
            "error_y": {
             "color": "#2a3f5f"
            },
            "marker": {
             "line": {
              "color": "#E5ECF6",
              "width": 0.5
             },
             "pattern": {
              "fillmode": "overlay",
              "size": 10,
              "solidity": 0.2
             }
            },
            "type": "bar"
           }
          ],
          "barpolar": [
           {
            "marker": {
             "line": {
              "color": "#E5ECF6",
              "width": 0.5
             },
             "pattern": {
              "fillmode": "overlay",
              "size": 10,
              "solidity": 0.2
             }
            },
            "type": "barpolar"
           }
          ],
          "carpet": [
           {
            "aaxis": {
             "endlinecolor": "#2a3f5f",
             "gridcolor": "white",
             "linecolor": "white",
             "minorgridcolor": "white",
             "startlinecolor": "#2a3f5f"
            },
            "baxis": {
             "endlinecolor": "#2a3f5f",
             "gridcolor": "white",
             "linecolor": "white",
             "minorgridcolor": "white",
             "startlinecolor": "#2a3f5f"
            },
            "type": "carpet"
           }
          ],
          "choropleth": [
           {
            "colorbar": {
             "outlinewidth": 0,
             "ticks": ""
            },
            "type": "choropleth"
           }
          ],
          "contour": [
           {
            "colorbar": {
             "outlinewidth": 0,
             "ticks": ""
            },
            "colorscale": [
             [
              0,
              "#0d0887"
             ],
             [
              0.1111111111111111,
              "#46039f"
             ],
             [
              0.2222222222222222,
              "#7201a8"
             ],
             [
              0.3333333333333333,
              "#9c179e"
             ],
             [
              0.4444444444444444,
              "#bd3786"
             ],
             [
              0.5555555555555556,
              "#d8576b"
             ],
             [
              0.6666666666666666,
              "#ed7953"
             ],
             [
              0.7777777777777778,
              "#fb9f3a"
             ],
             [
              0.8888888888888888,
              "#fdca26"
             ],
             [
              1,
              "#f0f921"
             ]
            ],
            "type": "contour"
           }
          ],
          "contourcarpet": [
           {
            "colorbar": {
             "outlinewidth": 0,
             "ticks": ""
            },
            "type": "contourcarpet"
           }
          ],
          "heatmap": [
           {
            "colorbar": {
             "outlinewidth": 0,
             "ticks": ""
            },
            "colorscale": [
             [
              0,
              "#0d0887"
             ],
             [
              0.1111111111111111,
              "#46039f"
             ],
             [
              0.2222222222222222,
              "#7201a8"
             ],
             [
              0.3333333333333333,
              "#9c179e"
             ],
             [
              0.4444444444444444,
              "#bd3786"
             ],
             [
              0.5555555555555556,
              "#d8576b"
             ],
             [
              0.6666666666666666,
              "#ed7953"
             ],
             [
              0.7777777777777778,
              "#fb9f3a"
             ],
             [
              0.8888888888888888,
              "#fdca26"
             ],
             [
              1,
              "#f0f921"
             ]
            ],
            "type": "heatmap"
           }
          ],
          "heatmapgl": [
           {
            "colorbar": {
             "outlinewidth": 0,
             "ticks": ""
            },
            "colorscale": [
             [
              0,
              "#0d0887"
             ],
             [
              0.1111111111111111,
              "#46039f"
             ],
             [
              0.2222222222222222,
              "#7201a8"
             ],
             [
              0.3333333333333333,
              "#9c179e"
             ],
             [
              0.4444444444444444,
              "#bd3786"
             ],
             [
              0.5555555555555556,
              "#d8576b"
             ],
             [
              0.6666666666666666,
              "#ed7953"
             ],
             [
              0.7777777777777778,
              "#fb9f3a"
             ],
             [
              0.8888888888888888,
              "#fdca26"
             ],
             [
              1,
              "#f0f921"
             ]
            ],
            "type": "heatmapgl"
           }
          ],
          "histogram": [
           {
            "marker": {
             "pattern": {
              "fillmode": "overlay",
              "size": 10,
              "solidity": 0.2
             }
            },
            "type": "histogram"
           }
          ],
          "histogram2d": [
           {
            "colorbar": {
             "outlinewidth": 0,
             "ticks": ""
            },
            "colorscale": [
             [
              0,
              "#0d0887"
             ],
             [
              0.1111111111111111,
              "#46039f"
             ],
             [
              0.2222222222222222,
              "#7201a8"
             ],
             [
              0.3333333333333333,
              "#9c179e"
             ],
             [
              0.4444444444444444,
              "#bd3786"
             ],
             [
              0.5555555555555556,
              "#d8576b"
             ],
             [
              0.6666666666666666,
              "#ed7953"
             ],
             [
              0.7777777777777778,
              "#fb9f3a"
             ],
             [
              0.8888888888888888,
              "#fdca26"
             ],
             [
              1,
              "#f0f921"
             ]
            ],
            "type": "histogram2d"
           }
          ],
          "histogram2dcontour": [
           {
            "colorbar": {
             "outlinewidth": 0,
             "ticks": ""
            },
            "colorscale": [
             [
              0,
              "#0d0887"
             ],
             [
              0.1111111111111111,
              "#46039f"
             ],
             [
              0.2222222222222222,
              "#7201a8"
             ],
             [
              0.3333333333333333,
              "#9c179e"
             ],
             [
              0.4444444444444444,
              "#bd3786"
             ],
             [
              0.5555555555555556,
              "#d8576b"
             ],
             [
              0.6666666666666666,
              "#ed7953"
             ],
             [
              0.7777777777777778,
              "#fb9f3a"
             ],
             [
              0.8888888888888888,
              "#fdca26"
             ],
             [
              1,
              "#f0f921"
             ]
            ],
            "type": "histogram2dcontour"
           }
          ],
          "mesh3d": [
           {
            "colorbar": {
             "outlinewidth": 0,
             "ticks": ""
            },
            "type": "mesh3d"
           }
          ],
          "parcoords": [
           {
            "line": {
             "colorbar": {
              "outlinewidth": 0,
              "ticks": ""
             }
            },
            "type": "parcoords"
           }
          ],
          "pie": [
           {
            "automargin": true,
            "type": "pie"
           }
          ],
          "scatter": [
           {
            "fillpattern": {
             "fillmode": "overlay",
             "size": 10,
             "solidity": 0.2
            },
            "type": "scatter"
           }
          ],
          "scatter3d": [
           {
            "line": {
             "colorbar": {
              "outlinewidth": 0,
              "ticks": ""
             }
            },
            "marker": {
             "colorbar": {
              "outlinewidth": 0,
              "ticks": ""
             }
            },
            "type": "scatter3d"
           }
          ],
          "scattercarpet": [
           {
            "marker": {
             "colorbar": {
              "outlinewidth": 0,
              "ticks": ""
             }
            },
            "type": "scattercarpet"
           }
          ],
          "scattergeo": [
           {
            "marker": {
             "colorbar": {
              "outlinewidth": 0,
              "ticks": ""
             }
            },
            "type": "scattergeo"
           }
          ],
          "scattergl": [
           {
            "marker": {
             "colorbar": {
              "outlinewidth": 0,
              "ticks": ""
             }
            },
            "type": "scattergl"
           }
          ],
          "scattermapbox": [
           {
            "marker": {
             "colorbar": {
              "outlinewidth": 0,
              "ticks": ""
             }
            },
            "type": "scattermapbox"
           }
          ],
          "scatterpolar": [
           {
            "marker": {
             "colorbar": {
              "outlinewidth": 0,
              "ticks": ""
             }
            },
            "type": "scatterpolar"
           }
          ],
          "scatterpolargl": [
           {
            "marker": {
             "colorbar": {
              "outlinewidth": 0,
              "ticks": ""
             }
            },
            "type": "scatterpolargl"
           }
          ],
          "scatterternary": [
           {
            "marker": {
             "colorbar": {
              "outlinewidth": 0,
              "ticks": ""
             }
            },
            "type": "scatterternary"
           }
          ],
          "surface": [
           {
            "colorbar": {
             "outlinewidth": 0,
             "ticks": ""
            },
            "colorscale": [
             [
              0,
              "#0d0887"
             ],
             [
              0.1111111111111111,
              "#46039f"
             ],
             [
              0.2222222222222222,
              "#7201a8"
             ],
             [
              0.3333333333333333,
              "#9c179e"
             ],
             [
              0.4444444444444444,
              "#bd3786"
             ],
             [
              0.5555555555555556,
              "#d8576b"
             ],
             [
              0.6666666666666666,
              "#ed7953"
             ],
             [
              0.7777777777777778,
              "#fb9f3a"
             ],
             [
              0.8888888888888888,
              "#fdca26"
             ],
             [
              1,
              "#f0f921"
             ]
            ],
            "type": "surface"
           }
          ],
          "table": [
           {
            "cells": {
             "fill": {
              "color": "#EBF0F8"
             },
             "line": {
              "color": "white"
             }
            },
            "header": {
             "fill": {
              "color": "#C8D4E3"
             },
             "line": {
              "color": "white"
             }
            },
            "type": "table"
           }
          ]
         },
         "layout": {
          "annotationdefaults": {
           "arrowcolor": "#2a3f5f",
           "arrowhead": 0,
           "arrowwidth": 1
          },
          "autotypenumbers": "strict",
          "coloraxis": {
           "colorbar": {
            "outlinewidth": 0,
            "ticks": ""
           }
          },
          "colorscale": {
           "diverging": [
            [
             0,
             "#8e0152"
            ],
            [
             0.1,
             "#c51b7d"
            ],
            [
             0.2,
             "#de77ae"
            ],
            [
             0.3,
             "#f1b6da"
            ],
            [
             0.4,
             "#fde0ef"
            ],
            [
             0.5,
             "#f7f7f7"
            ],
            [
             0.6,
             "#e6f5d0"
            ],
            [
             0.7,
             "#b8e186"
            ],
            [
             0.8,
             "#7fbc41"
            ],
            [
             0.9,
             "#4d9221"
            ],
            [
             1,
             "#276419"
            ]
           ],
           "sequential": [
            [
             0,
             "#0d0887"
            ],
            [
             0.1111111111111111,
             "#46039f"
            ],
            [
             0.2222222222222222,
             "#7201a8"
            ],
            [
             0.3333333333333333,
             "#9c179e"
            ],
            [
             0.4444444444444444,
             "#bd3786"
            ],
            [
             0.5555555555555556,
             "#d8576b"
            ],
            [
             0.6666666666666666,
             "#ed7953"
            ],
            [
             0.7777777777777778,
             "#fb9f3a"
            ],
            [
             0.8888888888888888,
             "#fdca26"
            ],
            [
             1,
             "#f0f921"
            ]
           ],
           "sequentialminus": [
            [
             0,
             "#0d0887"
            ],
            [
             0.1111111111111111,
             "#46039f"
            ],
            [
             0.2222222222222222,
             "#7201a8"
            ],
            [
             0.3333333333333333,
             "#9c179e"
            ],
            [
             0.4444444444444444,
             "#bd3786"
            ],
            [
             0.5555555555555556,
             "#d8576b"
            ],
            [
             0.6666666666666666,
             "#ed7953"
            ],
            [
             0.7777777777777778,
             "#fb9f3a"
            ],
            [
             0.8888888888888888,
             "#fdca26"
            ],
            [
             1,
             "#f0f921"
            ]
           ]
          },
          "colorway": [
           "#636efa",
           "#EF553B",
           "#00cc96",
           "#ab63fa",
           "#FFA15A",
           "#19d3f3",
           "#FF6692",
           "#B6E880",
           "#FF97FF",
           "#FECB52"
          ],
          "font": {
           "color": "#2a3f5f"
          },
          "geo": {
           "bgcolor": "white",
           "lakecolor": "white",
           "landcolor": "#E5ECF6",
           "showlakes": true,
           "showland": true,
           "subunitcolor": "white"
          },
          "hoverlabel": {
           "align": "left"
          },
          "hovermode": "closest",
          "mapbox": {
           "style": "light"
          },
          "paper_bgcolor": "white",
          "plot_bgcolor": "#E5ECF6",
          "polar": {
           "angularaxis": {
            "gridcolor": "white",
            "linecolor": "white",
            "ticks": ""
           },
           "bgcolor": "#E5ECF6",
           "radialaxis": {
            "gridcolor": "white",
            "linecolor": "white",
            "ticks": ""
           }
          },
          "scene": {
           "xaxis": {
            "backgroundcolor": "#E5ECF6",
            "gridcolor": "white",
            "gridwidth": 2,
            "linecolor": "white",
            "showbackground": true,
            "ticks": "",
            "zerolinecolor": "white"
           },
           "yaxis": {
            "backgroundcolor": "#E5ECF6",
            "gridcolor": "white",
            "gridwidth": 2,
            "linecolor": "white",
            "showbackground": true,
            "ticks": "",
            "zerolinecolor": "white"
           },
           "zaxis": {
            "backgroundcolor": "#E5ECF6",
            "gridcolor": "white",
            "gridwidth": 2,
            "linecolor": "white",
            "showbackground": true,
            "ticks": "",
            "zerolinecolor": "white"
           }
          },
          "shapedefaults": {
           "line": {
            "color": "#2a3f5f"
           }
          },
          "ternary": {
           "aaxis": {
            "gridcolor": "white",
            "linecolor": "white",
            "ticks": ""
           },
           "baxis": {
            "gridcolor": "white",
            "linecolor": "white",
            "ticks": ""
           },
           "bgcolor": "#E5ECF6",
           "caxis": {
            "gridcolor": "white",
            "linecolor": "white",
            "ticks": ""
           }
          },
          "title": {
           "x": 0.05
          },
          "xaxis": {
           "automargin": true,
           "gridcolor": "white",
           "linecolor": "white",
           "ticks": "",
           "title": {
            "standoff": 15
           },
           "zerolinecolor": "white",
           "zerolinewidth": 2
          },
          "yaxis": {
           "automargin": true,
           "gridcolor": "white",
           "linecolor": "white",
           "ticks": "",
           "title": {
            "standoff": 15
           },
           "zerolinecolor": "white",
           "zerolinewidth": 2
          }
         }
        },
        "width": 1200,
        "xaxis": {
         "anchor": "y",
         "domain": [
          0,
          1
         ],
         "showgrid": false,
         "zeroline": false
        },
        "yaxis": {
         "anchor": "x",
         "domain": [
          0,
          1
         ],
         "showgrid": false,
         "zeroline": false
        }
       }
      }
     },
     "metadata": {},
     "output_type": "display_data"
    }
   ],
   "source": [
    "plot_candlestick_with_signals(dataframes[0], start_index=300, num_rows=100)"
   ]
  },
  {
   "cell_type": "code",
   "execution_count": 8,
   "metadata": {},
   "outputs": [],
   "source": [
    "from backtesting import Strategy\n",
    "from backtesting import Backtest\n",
    "\n",
    "def SIGNAL():\n",
    "    return df.TotalSignal\n",
    "\n",
    "class Strat_01(Strategy):\n",
    "    mysize = 0.1  # Trade size\n",
    "    slperc = 0.02\n",
    "    tpperc = 0.04\n",
    "\n",
    "    def init(self):\n",
    "        super().init()\n",
    "        self.signal1 = self.I(SIGNAL)  # Assuming SIGNAL is a function that returns signals\n",
    "\n",
    "    def next(self):\n",
    "        super().next()\n",
    "         \n",
    "        if self.signal1 == 2 and not self.position:\n",
    "            # Open a new long position with calculated SL and TP\n",
    "            current_close = self.data.Close[-1]\n",
    "            sl = current_close - self.slperc * current_close  # SL at 4% below the close price\n",
    "            tp = current_close + self.tpperc * current_close  # TP at 2% above the close price\n",
    "            self.buy(size=self.mysize, sl=sl, tp=tp)\n",
    "\n",
    "        elif self.signal1 == 1 and not self.position:\n",
    "            # Open a new short position, setting SL based on a strategy-specific requirement\n",
    "            current_close = self.data.Close[-1]\n",
    "            sl = current_close + self.slperc * current_close  # SL at 4% below the close price\n",
    "            tp = current_close - self.tpperc * current_close  # TP at 2% above the close price\n",
    "            self.sell(size=self.mysize, sl=sl, tp=tp)\n"
   ]
  },
  {
   "cell_type": "code",
   "execution_count": 12,
   "metadata": {},
   "outputs": [],
   "source": [
    "class Strat_02(Strategy):\n",
    "    mysize = 0.1  # Trade size\n",
    "\n",
    "    def init(self):\n",
    "        super().init()\n",
    "        self.signal1 = self.I(SIGNAL)  # Assuming SIGNAL is a function that returns signals\n",
    "\n",
    "    def calculate_stop_loss(self, entry_price, pips=200, pip_value=0.0001, direction=\"long\"):\n",
    "        \"\"\"\n",
    "        Calculate the stop loss distance given the entry price, number of pips, and pip value.\n",
    "        \n",
    "        Parameters:\n",
    "        entry_price (float): The price at which the trade is entered.\n",
    "        pips (int): The number of pips for the stop loss. Default is 200.\n",
    "        pip_value (float): The value of one pip. Default is 0.0001 for most currency pairs.\n",
    "        direction (str): 'long' or 'short' to indicate the trade direction.\n",
    "        \n",
    "        Returns:\n",
    "        float: The stop loss price.\n",
    "        \"\"\"\n",
    "        sl_distance = pips * pip_value\n",
    "        if direction == \"long\":\n",
    "            stop_loss_price = entry_price - sl_distance\n",
    "        elif direction == \"short\":\n",
    "            stop_loss_price = entry_price + sl_distance\n",
    "        else:\n",
    "            raise ValueError(\"direction must be 'long' or 'short'\")\n",
    "\n",
    "        return stop_loss_price\n",
    "\n",
    "    def next(self):\n",
    "        super().next()\n",
    "\n",
    "        # Check if any trades are winning and close them\n",
    "        for trade in self.trades:\n",
    "            if trade.pl > 0:\n",
    "                trade.close()\n",
    "\n",
    "        # Handle new signals\n",
    "        if self.signal1[-1] == 2 and not self.position:\n",
    "            current_close = self.data.Close[-1]\n",
    "            sl = self.calculate_stop_loss(entry_price=current_close, pips=250, pip_value=0.0001, direction=\"long\")\n",
    "            self.buy(size=self.mysize, sl=sl)\n",
    "\n",
    "        elif self.signal1[-1] == 1 and not self.position:\n",
    "            current_close = self.data.Close[-1]\n",
    "            sl = self.calculate_stop_loss(entry_price=current_close, pips=250, pip_value=0.0001, direction=\"short\")\n",
    "            self.sell(size=self.mysize, sl=sl)"
   ]
  },
  {
   "cell_type": "code",
   "execution_count": 13,
   "metadata": {},
   "outputs": [],
   "source": [
    "results = []\n",
    "\n",
    "for df in dataframes:\n",
    "    bt = Backtest(df, Strat_02, cash=5000, margin=1/10, commission=0.0002)\n",
    "    # stats, heatmap = bt.optimize(slperc=[i/100 for i in range(1, 8)],\n",
    "    #                              tpperc=[i/100 for i in range(1, 8)],\n",
    "    #                 maximize='Return [%]', max_tries=3000,\n",
    "    #                     random_state=0,\n",
    "    #                     return_heatmap=True)\n",
    "    \n",
    "    stats =  bt.run()\n",
    "\n",
    "    results.append(stats)"
   ]
  },
  {
   "cell_type": "code",
   "execution_count": 14,
   "metadata": {},
   "outputs": [
    {
     "name": "stdout",
     "output_type": "stream",
     "text": [
      "Aggregated Returns: 26.29%\n",
      "Number of Trades: 431\n",
      "Maximum Drawdown: -11.23%\n",
      "Average Drawdown: -1.19%\n",
      "Win Rate: 87.53%\n",
      "Best Trade: 1.79%\n",
      "Worst Trade: -2.60%\n",
      "Average Trade: 0.06%\n"
     ]
    }
   ],
   "source": [
    "agg_returns = sum([r[\"Return [%]\"] for r in results])\n",
    "num_trades = sum([r[\"# Trades\"] for r in results])\n",
    "max_drawdown = min([r[\"Max. Drawdown [%]\"] for r in results])\n",
    "avg_drawdown = sum([r[\"Avg. Drawdown [%]\"] for r in results]) / len(results)\n",
    "\n",
    "win_rate = sum([r[\"Win Rate [%]\"] for r in results]) / len(results)\n",
    "best_trade = max([r[\"Best Trade [%]\"] for r in results])\n",
    "worst_trade = min([r[\"Worst Trade [%]\"] for r in results])\n",
    "avg_trade = sum([r[\"Avg. Trade [%]\"] for r in results]) / len(results)\n",
    "#max_trade_duration = max([r[\"Max. Trade Duration\"] for r in results])\n",
    "#avg_trade_duration = sum([r[\"Avg. Trade Duration\"] for r in results]) / len(results)\n",
    "\n",
    "print(f\"Aggregated Returns: {agg_returns:.2f}%\")\n",
    "print(f\"Number of Trades: {num_trades}\")\n",
    "print(f\"Maximum Drawdown: {max_drawdown:.2f}%\")\n",
    "print(f\"Average Drawdown: {avg_drawdown:.2f}%\")\n",
    "print(f\"Win Rate: {win_rate:.2f}%\")\n",
    "print(f\"Best Trade: {best_trade:.2f}%\")\n",
    "print(f\"Worst Trade: {worst_trade:.2f}%\")\n",
    "print(f\"Average Trade: {avg_trade:.2f}%\")\n",
    "#print(f\"Maximum Trade Duration: {max_trade_duration} days\")\n",
    "#print(f\"Average Trade Duration: {avg_trade_duration:.2f} days\")\n"
   ]
  },
  {
   "cell_type": "code",
   "execution_count": 15,
   "metadata": {},
   "outputs": [],
   "source": [
    "equity_curves = [stats['_equity_curve']['Equity'] for stats in results]\n",
    "max_length = max(len(equity) for equity in equity_curves)\n",
    "\n",
    "# Pad each equity curve with the last value to match the maximum length\n",
    "padded_equity_curves = []\n",
    "for equity in equity_curves:\n",
    "    last_value = equity.iloc[-1]\n",
    "    padding = [last_value] * (max_length - len(equity))\n",
    "    padded_equity = equity.tolist() + padding\n",
    "    padded_equity_curves.append(padded_equity)\n",
    "\n",
    "equity_df = pd.DataFrame(padded_equity_curves).T"
   ]
  },
  {
   "cell_type": "code",
   "execution_count": 16,
   "metadata": {},
   "outputs": [
    {
     "data": {
      "image/png": "[encoded data removed]",
      "text/plain": [
       "<Figure size 1000x600 with 1 Axes>"
      ]
     },
     "metadata": {},
     "output_type": "display_data"
    }
   ],
   "source": [
    "import matplotlib.pyplot as plt\n",
    "\n",
    "equity_df.plot(kind='line', figsize=(10, 6), legend=False).set_facecolor('black')\n",
    "plt.gca().spines['bottom'].set_color('black')\n",
    "plt.gca().spines['left'].set_color('black')\n",
    "plt.gca().tick_params(axis='x', colors='black')\n",
    "plt.gca().tick_params(axis='y', colors='black')\n",
    "plt.gca().set_facecolor('black')"
   ]
  },
  {
   "cell_type": "code",
   "execution_count": 17,
   "metadata": {},
   "outputs": [
    {
     "data": {
      "text/plain": [
       "[12.314851563040701, 13.975077692080612]"
      ]
     },
     "execution_count": 17,
     "metadata": {},
     "output_type": "execute_result"
    }
   ],
   "source": [
    "[r[\"Return [%]\"] for r in results]"
   ]
  },
  {
   "cell_type": "code",
   "execution_count": 18,
   "metadata": {},
   "outputs": [
    {
     "data": {
      "text/plain": [
       "['EURUSD_Candlestick_1_D_BID_06.06.2017-15.06.2024.csv',\n",
       " 'GBPUSD_Candlestick_1_D_BID_06.06.2017-15.06.2024.csv']"
      ]
     },
     "execution_count": 18,
     "metadata": {},
     "output_type": "execute_result"
    }
   ],
   "source": [
    "names"
   ]
  },
  {
   "cell_type": "code",
   "execution_count": 19,
   "metadata": {},
   "outputs": [
    {
     "data": {
      "text/plain": [
       "Start                     2017-06-06 00:00:00\n",
       "End                       2024-06-14 00:00:00\n",
       "Duration                   2565 days 00:00:00\n",
       "Exposure Time [%]                   45.355191\n",
       "Equity Final [$]                  5698.753885\n",
       "Equity Peak [$]                   6025.001308\n",
       "Return [%]                          13.975078\n",
       "Buy & Hold Return [%]               -1.729428\n",
       "Return (Ann.) [%]                    1.512417\n",
       "Volatility (Ann.) [%]                4.607678\n",
       "Sharpe Ratio                         0.328238\n",
       "Sortino Ratio                        0.512531\n",
       "Calmar Ratio                         0.199269\n",
       "Max. Drawdown [%]                   -7.589835\n",
       "Avg. Drawdown [%]                   -1.266538\n",
       "Max. Drawdown Duration     1066 days 00:00:00\n",
       "Avg. Drawdown Duration       78 days 00:00:00\n",
       "# Trades                                  220\n",
       "Win Rate [%]                        84.545455\n",
       "Best Trade [%]                       1.791137\n",
       "Worst Trade [%]                     -2.157145\n",
       "Avg. Trade [%]                       0.059485\n",
       "Max. Trade Duration          54 days 00:00:00\n",
       "Avg. Trade Duration           5 days 00:00:00\n",
       "Profit Factor                        1.230404\n",
       "Expectancy [%]                       0.063373\n",
       "SQN                                  1.011295\n",
       "_strategy                            Strat_02\n",
       "_equity_curve                             ...\n",
       "_trades                        Size  Entry...\n",
       "dtype: object"
      ]
     },
     "execution_count": 19,
     "metadata": {},
     "output_type": "execute_result"
    }
   ],
   "source": [
    "results[1]"
   ]
  },
  {
   "cell_type": "code",
   "execution_count": null,
   "metadata": {},
   "outputs": [],
   "source": []
  }
 ],
 "metadata": {
  "kernelspec": {
   "display_name": "Python 3.10.8 64-bit",
   "language": "python",
   "name": "python3"
  },
  "language_info": {
   "codemirror_mode": {
    "name": "ipython",
    "version": 3
   },
   "file_extension": ".py",
   "mimetype": "text/x-python",
   "name": "python",
   "nbconvert_exporter": "python",
   "pygments_lexer": "ipython3",
   "version": "3.11.5"
  },
  "vscode": {
   "interpreter": {
    "hash": "c0ff92a541b5eb8a0f75470c34280cf0dea79e8b819847822bd36e33345fddf3"
   }
  }
 },
 "nbformat": 4,
 "nbformat_minor": 2
}
